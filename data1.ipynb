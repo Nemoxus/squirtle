{
 "cells": [
  {
   "cell_type": "markdown",
   "id": "de1d0c9d-dab4-4f79-bd71-f99693e6bc7d",
   "metadata": {},
   "source": [
    "# Exploratory Data Analysis (EDA)\n",
    "\n",
    "*Analysis of Twitter Engagement Data*"
   ]
  },
  {
   "cell_type": "code",
   "execution_count": 2,
   "id": "515d1565-a47a-4bad-97f3-796be8d108aa",
   "metadata": {},
   "outputs": [],
   "source": [
    "import pandas as pd                # for data manipulation and analysis\n",
    "import numpy as np                 # for numerical computing\n",
    "import matplotlib.pyplot as plt    # for data visualization\n",
    "import seaborn as sns              # for advanced data visualization\n",
    "import plotly.express as px\n",
    "import plotly.graph_objects as go"
   ]
  },
  {
   "cell_type": "code",
   "execution_count": 3,
   "id": "f0207592-4316-4d07-ade1-ad94554ef61e",
   "metadata": {},
   "outputs": [],
   "source": [
    "#Loading the dataset\n",
    "\n",
    "df = pd.read_csv('C:/Users/Shreejata Gupta/data analytics/tweets-engagement-metrics.csv')"
   ]
  },
  {
   "cell_type": "code",
   "execution_count": 15,
   "id": "7a776e81-5602-4847-b36f-e68ded47294f",
   "metadata": {},
   "outputs": [
    {
     "data": {
      "text/html": [
       "<div>\n",
       "<style scoped>\n",
       "    .dataframe tbody tr th:only-of-type {\n",
       "        vertical-align: middle;\n",
       "    }\n",
       "\n",
       "    .dataframe tbody tr th {\n",
       "        vertical-align: top;\n",
       "    }\n",
       "\n",
       "    .dataframe thead th {\n",
       "        text-align: right;\n",
       "    }\n",
       "</style>\n",
       "<table border=\"1\" class=\"dataframe\">\n",
       "  <thead>\n",
       "    <tr style=\"text-align: right;\">\n",
       "      <th></th>\n",
       "      <th>Unnamed: 0</th>\n",
       "      <th>UserID</th>\n",
       "      <th>Gender</th>\n",
       "      <th>LocationID</th>\n",
       "      <th>City</th>\n",
       "      <th>State</th>\n",
       "      <th>StateCode</th>\n",
       "      <th>Country</th>\n",
       "      <th>TweetID</th>\n",
       "      <th>Hour</th>\n",
       "      <th>Day</th>\n",
       "      <th>Weekday</th>\n",
       "      <th>IsReshare</th>\n",
       "      <th>Reach</th>\n",
       "      <th>RetweetCount</th>\n",
       "      <th>Likes</th>\n",
       "      <th>Klout</th>\n",
       "      <th>Sentiment</th>\n",
       "      <th>Lang</th>\n",
       "      <th>text</th>\n",
       "    </tr>\n",
       "  </thead>\n",
       "  <tbody>\n",
       "    <tr>\n",
       "      <th>0</th>\n",
       "      <td>0</td>\n",
       "      <td>tw-1267804344</td>\n",
       "      <td>Unknown</td>\n",
       "      <td>1.0</td>\n",
       "      <td>Elbasan</td>\n",
       "      <td>Elbasan</td>\n",
       "      <td>AL</td>\n",
       "      <td>Albania</td>\n",
       "      <td>tw-698155297102295041</td>\n",
       "      <td>7</td>\n",
       "      <td>12</td>\n",
       "      <td>Friday</td>\n",
       "      <td>True</td>\n",
       "      <td>339.0</td>\n",
       "      <td>127.0</td>\n",
       "      <td>0.0</td>\n",
       "      <td>44.0</td>\n",
       "      <td>0.0</td>\n",
       "      <td>en</td>\n",
       "      <td>\"RT @AdrianRusso82: Our Innovation Lab is offi...</td>\n",
       "    </tr>\n",
       "    <tr>\n",
       "      <th>1</th>\n",
       "      <td>1</td>\n",
       "      <td>tw-27229880</td>\n",
       "      <td>Male</td>\n",
       "      <td>2.0</td>\n",
       "      <td>Tirana</td>\n",
       "      <td>Tirane</td>\n",
       "      <td>AL</td>\n",
       "      <td>Albania</td>\n",
       "      <td>tw-685159757209059329</td>\n",
       "      <td>11</td>\n",
       "      <td>7</td>\n",
       "      <td>Thursday</td>\n",
       "      <td>False</td>\n",
       "      <td>87.0</td>\n",
       "      <td>0.0</td>\n",
       "      <td>0.0</td>\n",
       "      <td>22.0</td>\n",
       "      <td>0.0</td>\n",
       "      <td>en</td>\n",
       "      <td>Now Open  AWS Asia Pacific (Seoul) Region via ...</td>\n",
       "    </tr>\n",
       "    <tr>\n",
       "      <th>2</th>\n",
       "      <td>2</td>\n",
       "      <td>tw-27229880</td>\n",
       "      <td>Male</td>\n",
       "      <td>2.0</td>\n",
       "      <td>Tirana</td>\n",
       "      <td>Tirane</td>\n",
       "      <td>AL</td>\n",
       "      <td>Albania</td>\n",
       "      <td>tw-686907710311378944</td>\n",
       "      <td>6</td>\n",
       "      <td>12</td>\n",
       "      <td>Tuesday</td>\n",
       "      <td>False</td>\n",
       "      <td>87.0</td>\n",
       "      <td>0.0</td>\n",
       "      <td>0.0</td>\n",
       "      <td>22.0</td>\n",
       "      <td>0.0</td>\n",
       "      <td>en</td>\n",
       "      <td>A Beginner's Guide to Scaling to 11 Million+ U...</td>\n",
       "    </tr>\n",
       "    <tr>\n",
       "      <th>3</th>\n",
       "      <td>3</td>\n",
       "      <td>tw-27229880</td>\n",
       "      <td>Male</td>\n",
       "      <td>2.0</td>\n",
       "      <td>Tirana</td>\n",
       "      <td>Tirane</td>\n",
       "      <td>AL</td>\n",
       "      <td>Albania</td>\n",
       "      <td>tw-686968158050201600</td>\n",
       "      <td>10</td>\n",
       "      <td>12</td>\n",
       "      <td>Tuesday</td>\n",
       "      <td>False</td>\n",
       "      <td>87.0</td>\n",
       "      <td>0.0</td>\n",
       "      <td>0.0</td>\n",
       "      <td>22.0</td>\n",
       "      <td>0.0</td>\n",
       "      <td>en</td>\n",
       "      <td>Bridging AWS and Azure environments via VPN vi...</td>\n",
       "    </tr>\n",
       "    <tr>\n",
       "      <th>4</th>\n",
       "      <td>4</td>\n",
       "      <td>tw-27229880</td>\n",
       "      <td>Male</td>\n",
       "      <td>2.0</td>\n",
       "      <td>Tirana</td>\n",
       "      <td>Tirane</td>\n",
       "      <td>AL</td>\n",
       "      <td>Albania</td>\n",
       "      <td>tw-690210449674092545</td>\n",
       "      <td>9</td>\n",
       "      <td>21</td>\n",
       "      <td>Thursday</td>\n",
       "      <td>False</td>\n",
       "      <td>85.0</td>\n",
       "      <td>0.0</td>\n",
       "      <td>0.0</td>\n",
       "      <td>21.0</td>\n",
       "      <td>0.0</td>\n",
       "      <td>en</td>\n",
       "      <td>ELK on AWS ElasticSearch Service + ElasticBean...</td>\n",
       "    </tr>\n",
       "  </tbody>\n",
       "</table>\n",
       "</div>"
      ],
      "text/plain": [
       "   Unnamed: 0         UserID   Gender  LocationID     City    State StateCode  \\\n",
       "0           0  tw-1267804344  Unknown         1.0  Elbasan  Elbasan        AL   \n",
       "1           1    tw-27229880     Male         2.0   Tirana   Tirane        AL   \n",
       "2           2    tw-27229880     Male         2.0   Tirana   Tirane        AL   \n",
       "3           3    tw-27229880     Male         2.0   Tirana   Tirane        AL   \n",
       "4           4    tw-27229880     Male         2.0   Tirana   Tirane        AL   \n",
       "\n",
       "   Country                TweetID  Hour  Day   Weekday  IsReshare  Reach  \\\n",
       "0  Albania  tw-698155297102295041     7   12    Friday       True  339.0   \n",
       "1  Albania  tw-685159757209059329    11    7  Thursday      False   87.0   \n",
       "2  Albania  tw-686907710311378944     6   12   Tuesday      False   87.0   \n",
       "3  Albania  tw-686968158050201600    10   12   Tuesday      False   87.0   \n",
       "4  Albania  tw-690210449674092545     9   21  Thursday      False   85.0   \n",
       "\n",
       "   RetweetCount  Likes  Klout  Sentiment Lang  \\\n",
       "0         127.0    0.0   44.0        0.0   en   \n",
       "1           0.0    0.0   22.0        0.0   en   \n",
       "2           0.0    0.0   22.0        0.0   en   \n",
       "3           0.0    0.0   22.0        0.0   en   \n",
       "4           0.0    0.0   21.0        0.0   en   \n",
       "\n",
       "                                                text  \n",
       "0  \"RT @AdrianRusso82: Our Innovation Lab is offi...  \n",
       "1  Now Open  AWS Asia Pacific (Seoul) Region via ...  \n",
       "2  A Beginner's Guide to Scaling to 11 Million+ U...  \n",
       "3  Bridging AWS and Azure environments via VPN vi...  \n",
       "4  ELK on AWS ElasticSearch Service + ElasticBean...  "
      ]
     },
     "execution_count": 15,
     "metadata": {},
     "output_type": "execute_result"
    }
   ],
   "source": [
    "df.head() #shows the first 5 values of the dataset by default\n",
    "\n",
    "#df.head(10) will print the first 10 values of the dataset"
   ]
  },
  {
   "cell_type": "code",
   "execution_count": 24,
   "id": "808b8201-2dfe-4713-8d82-c58a28d39c5d",
   "metadata": {},
   "outputs": [
    {
     "data": {
      "text/html": [
       "<div>\n",
       "<style scoped>\n",
       "    .dataframe tbody tr th:only-of-type {\n",
       "        vertical-align: middle;\n",
       "    }\n",
       "\n",
       "    .dataframe tbody tr th {\n",
       "        vertical-align: top;\n",
       "    }\n",
       "\n",
       "    .dataframe thead th {\n",
       "        text-align: right;\n",
       "    }\n",
       "</style>\n",
       "<table border=\"1\" class=\"dataframe\">\n",
       "  <thead>\n",
       "    <tr style=\"text-align: right;\">\n",
       "      <th></th>\n",
       "      <th>Unnamed: 0</th>\n",
       "      <th>UserID</th>\n",
       "      <th>Gender</th>\n",
       "      <th>LocationID</th>\n",
       "      <th>City</th>\n",
       "      <th>State</th>\n",
       "      <th>StateCode</th>\n",
       "      <th>Country</th>\n",
       "      <th>TweetID</th>\n",
       "      <th>Hour</th>\n",
       "      <th>Day</th>\n",
       "      <th>Weekday</th>\n",
       "      <th>IsReshare</th>\n",
       "      <th>Reach</th>\n",
       "      <th>RetweetCount</th>\n",
       "      <th>Likes</th>\n",
       "      <th>Klout</th>\n",
       "      <th>Sentiment</th>\n",
       "      <th>Lang</th>\n",
       "      <th>text</th>\n",
       "    </tr>\n",
       "  </thead>\n",
       "  <tbody>\n",
       "    <tr>\n",
       "      <th>0</th>\n",
       "      <td>0</td>\n",
       "      <td>tw-1267804344</td>\n",
       "      <td>Unknown</td>\n",
       "      <td>1.0</td>\n",
       "      <td>Elbasan</td>\n",
       "      <td>Elbasan</td>\n",
       "      <td>AL</td>\n",
       "      <td>Albania</td>\n",
       "      <td>tw-698155297102295041</td>\n",
       "      <td>7</td>\n",
       "      <td>12</td>\n",
       "      <td>Friday</td>\n",
       "      <td>True</td>\n",
       "      <td>339.0</td>\n",
       "      <td>127.0</td>\n",
       "      <td>0.0</td>\n",
       "      <td>44.0</td>\n",
       "      <td>0.0</td>\n",
       "      <td>en</td>\n",
       "      <td>\"RT @AdrianRusso82: Our Innovation Lab is offi...</td>\n",
       "    </tr>\n",
       "    <tr>\n",
       "      <th>1</th>\n",
       "      <td>1</td>\n",
       "      <td>tw-27229880</td>\n",
       "      <td>Male</td>\n",
       "      <td>2.0</td>\n",
       "      <td>Tirana</td>\n",
       "      <td>Tirane</td>\n",
       "      <td>AL</td>\n",
       "      <td>Albania</td>\n",
       "      <td>tw-685159757209059329</td>\n",
       "      <td>11</td>\n",
       "      <td>7</td>\n",
       "      <td>Thursday</td>\n",
       "      <td>False</td>\n",
       "      <td>87.0</td>\n",
       "      <td>0.0</td>\n",
       "      <td>0.0</td>\n",
       "      <td>22.0</td>\n",
       "      <td>0.0</td>\n",
       "      <td>en</td>\n",
       "      <td>Now Open  AWS Asia Pacific (Seoul) Region via ...</td>\n",
       "    </tr>\n",
       "    <tr>\n",
       "      <th>2</th>\n",
       "      <td>2</td>\n",
       "      <td>tw-27229880</td>\n",
       "      <td>Male</td>\n",
       "      <td>2.0</td>\n",
       "      <td>Tirana</td>\n",
       "      <td>Tirane</td>\n",
       "      <td>AL</td>\n",
       "      <td>Albania</td>\n",
       "      <td>tw-686907710311378944</td>\n",
       "      <td>6</td>\n",
       "      <td>12</td>\n",
       "      <td>Tuesday</td>\n",
       "      <td>False</td>\n",
       "      <td>87.0</td>\n",
       "      <td>0.0</td>\n",
       "      <td>0.0</td>\n",
       "      <td>22.0</td>\n",
       "      <td>0.0</td>\n",
       "      <td>en</td>\n",
       "      <td>A Beginner's Guide to Scaling to 11 Million+ U...</td>\n",
       "    </tr>\n",
       "    <tr>\n",
       "      <th>3</th>\n",
       "      <td>3</td>\n",
       "      <td>tw-27229880</td>\n",
       "      <td>Male</td>\n",
       "      <td>2.0</td>\n",
       "      <td>Tirana</td>\n",
       "      <td>Tirane</td>\n",
       "      <td>AL</td>\n",
       "      <td>Albania</td>\n",
       "      <td>tw-686968158050201600</td>\n",
       "      <td>10</td>\n",
       "      <td>12</td>\n",
       "      <td>Tuesday</td>\n",
       "      <td>False</td>\n",
       "      <td>87.0</td>\n",
       "      <td>0.0</td>\n",
       "      <td>0.0</td>\n",
       "      <td>22.0</td>\n",
       "      <td>0.0</td>\n",
       "      <td>en</td>\n",
       "      <td>Bridging AWS and Azure environments via VPN vi...</td>\n",
       "    </tr>\n",
       "    <tr>\n",
       "      <th>4</th>\n",
       "      <td>4</td>\n",
       "      <td>tw-27229880</td>\n",
       "      <td>Male</td>\n",
       "      <td>2.0</td>\n",
       "      <td>Tirana</td>\n",
       "      <td>Tirane</td>\n",
       "      <td>AL</td>\n",
       "      <td>Albania</td>\n",
       "      <td>tw-690210449674092545</td>\n",
       "      <td>9</td>\n",
       "      <td>21</td>\n",
       "      <td>Thursday</td>\n",
       "      <td>False</td>\n",
       "      <td>85.0</td>\n",
       "      <td>0.0</td>\n",
       "      <td>0.0</td>\n",
       "      <td>21.0</td>\n",
       "      <td>0.0</td>\n",
       "      <td>en</td>\n",
       "      <td>ELK on AWS ElasticSearch Service + ElasticBean...</td>\n",
       "    </tr>\n",
       "    <tr>\n",
       "      <th>5</th>\n",
       "      <td>5</td>\n",
       "      <td>tw-27229880</td>\n",
       "      <td>Male</td>\n",
       "      <td>2.0</td>\n",
       "      <td>Tirana</td>\n",
       "      <td>Tirane</td>\n",
       "      <td>AL</td>\n",
       "      <td>Albania</td>\n",
       "      <td>tw-708749871080153088</td>\n",
       "      <td>13</td>\n",
       "      <td>12</td>\n",
       "      <td>Saturday</td>\n",
       "      <td>False</td>\n",
       "      <td>86.0</td>\n",
       "      <td>0.0</td>\n",
       "      <td>0.0</td>\n",
       "      <td>21.0</td>\n",
       "      <td>0.0</td>\n",
       "      <td>en</td>\n",
       "      <td>10 Lessons from 10 Years of Amazon Web Service...</td>\n",
       "    </tr>\n",
       "    <tr>\n",
       "      <th>6</th>\n",
       "      <td>6</td>\n",
       "      <td>tw-27229880</td>\n",
       "      <td>Male</td>\n",
       "      <td>2.0</td>\n",
       "      <td>Tirana</td>\n",
       "      <td>Tirane</td>\n",
       "      <td>AL</td>\n",
       "      <td>Albania</td>\n",
       "      <td>tw-714806305106604032</td>\n",
       "      <td>7</td>\n",
       "      <td>29</td>\n",
       "      <td>Tuesday</td>\n",
       "      <td>False</td>\n",
       "      <td>86.0</td>\n",
       "      <td>0.0</td>\n",
       "      <td>0.0</td>\n",
       "      <td>24.0</td>\n",
       "      <td>2.0</td>\n",
       "      <td>en</td>\n",
       "      <td>How powerful are the burstable aws t2 instance...</td>\n",
       "    </tr>\n",
       "    <tr>\n",
       "      <th>7</th>\n",
       "      <td>7</td>\n",
       "      <td>tw-126745533</td>\n",
       "      <td>Male</td>\n",
       "      <td>4.0</td>\n",
       "      <td>Algiers</td>\n",
       "      <td>Alger</td>\n",
       "      <td>DZ</td>\n",
       "      <td>Algeria</td>\n",
       "      <td>tw-696052825378463744</td>\n",
       "      <td>12</td>\n",
       "      <td>6</td>\n",
       "      <td>Saturday</td>\n",
       "      <td>True</td>\n",
       "      <td>175.0</td>\n",
       "      <td>3.0</td>\n",
       "      <td>0.0</td>\n",
       "      <td>33.0</td>\n",
       "      <td>0.0</td>\n",
       "      <td>en</td>\n",
       "      <td>RT @pzerger: Microsoft and Google Lead in Clou...</td>\n",
       "    </tr>\n",
       "    <tr>\n",
       "      <th>8</th>\n",
       "      <td>8</td>\n",
       "      <td>tw-126745533</td>\n",
       "      <td>Male</td>\n",
       "      <td>4.0</td>\n",
       "      <td>Algiers</td>\n",
       "      <td>Alger</td>\n",
       "      <td>DZ</td>\n",
       "      <td>Algeria</td>\n",
       "      <td>tw-696052905955213313</td>\n",
       "      <td>12</td>\n",
       "      <td>6</td>\n",
       "      <td>Saturday</td>\n",
       "      <td>True</td>\n",
       "      <td>175.0</td>\n",
       "      <td>7.0</td>\n",
       "      <td>0.0</td>\n",
       "      <td>33.0</td>\n",
       "      <td>0.0</td>\n",
       "      <td>en</td>\n",
       "      <td>RT @awscloud: How to deploy an SSL certificate...</td>\n",
       "    </tr>\n",
       "    <tr>\n",
       "      <th>9</th>\n",
       "      <td>9</td>\n",
       "      <td>tw-330939742</td>\n",
       "      <td>Male</td>\n",
       "      <td>6.0</td>\n",
       "      <td>NaN</td>\n",
       "      <td>NaN</td>\n",
       "      <td>NaN</td>\n",
       "      <td>Algeria</td>\n",
       "      <td>tw-697732825290772480</td>\n",
       "      <td>3</td>\n",
       "      <td>11</td>\n",
       "      <td>Thursday</td>\n",
       "      <td>False</td>\n",
       "      <td>192.0</td>\n",
       "      <td>2.0</td>\n",
       "      <td>0.0</td>\n",
       "      <td>42.0</td>\n",
       "      <td>-3.0</td>\n",
       "      <td>en</td>\n",
       "      <td>Too bad #Facebook: Host #Parse on #AWS #Heroku...</td>\n",
       "    </tr>\n",
       "  </tbody>\n",
       "</table>\n",
       "</div>"
      ],
      "text/plain": [
       "   Unnamed: 0         UserID   Gender  LocationID     City    State StateCode  \\\n",
       "0           0  tw-1267804344  Unknown         1.0  Elbasan  Elbasan        AL   \n",
       "1           1    tw-27229880     Male         2.0   Tirana   Tirane        AL   \n",
       "2           2    tw-27229880     Male         2.0   Tirana   Tirane        AL   \n",
       "3           3    tw-27229880     Male         2.0   Tirana   Tirane        AL   \n",
       "4           4    tw-27229880     Male         2.0   Tirana   Tirane        AL   \n",
       "5           5    tw-27229880     Male         2.0   Tirana   Tirane        AL   \n",
       "6           6    tw-27229880     Male         2.0   Tirana   Tirane        AL   \n",
       "7           7   tw-126745533     Male         4.0  Algiers    Alger        DZ   \n",
       "8           8   tw-126745533     Male         4.0  Algiers    Alger        DZ   \n",
       "9           9   tw-330939742     Male         6.0      NaN      NaN       NaN   \n",
       "\n",
       "   Country                TweetID  Hour  Day   Weekday  IsReshare  Reach  \\\n",
       "0  Albania  tw-698155297102295041     7   12    Friday       True  339.0   \n",
       "1  Albania  tw-685159757209059329    11    7  Thursday      False   87.0   \n",
       "2  Albania  tw-686907710311378944     6   12   Tuesday      False   87.0   \n",
       "3  Albania  tw-686968158050201600    10   12   Tuesday      False   87.0   \n",
       "4  Albania  tw-690210449674092545     9   21  Thursday      False   85.0   \n",
       "5  Albania  tw-708749871080153088    13   12  Saturday      False   86.0   \n",
       "6  Albania  tw-714806305106604032     7   29   Tuesday      False   86.0   \n",
       "7  Algeria  tw-696052825378463744    12    6  Saturday       True  175.0   \n",
       "8  Algeria  tw-696052905955213313    12    6  Saturday       True  175.0   \n",
       "9  Algeria  tw-697732825290772480     3   11  Thursday      False  192.0   \n",
       "\n",
       "   RetweetCount  Likes  Klout  Sentiment Lang  \\\n",
       "0         127.0    0.0   44.0        0.0   en   \n",
       "1           0.0    0.0   22.0        0.0   en   \n",
       "2           0.0    0.0   22.0        0.0   en   \n",
       "3           0.0    0.0   22.0        0.0   en   \n",
       "4           0.0    0.0   21.0        0.0   en   \n",
       "5           0.0    0.0   21.0        0.0   en   \n",
       "6           0.0    0.0   24.0        2.0   en   \n",
       "7           3.0    0.0   33.0        0.0   en   \n",
       "8           7.0    0.0   33.0        0.0   en   \n",
       "9           2.0    0.0   42.0       -3.0   en   \n",
       "\n",
       "                                                text  \n",
       "0  \"RT @AdrianRusso82: Our Innovation Lab is offi...  \n",
       "1  Now Open  AWS Asia Pacific (Seoul) Region via ...  \n",
       "2  A Beginner's Guide to Scaling to 11 Million+ U...  \n",
       "3  Bridging AWS and Azure environments via VPN vi...  \n",
       "4  ELK on AWS ElasticSearch Service + ElasticBean...  \n",
       "5  10 Lessons from 10 Years of Amazon Web Service...  \n",
       "6  How powerful are the burstable aws t2 instance...  \n",
       "7  RT @pzerger: Microsoft and Google Lead in Clou...  \n",
       "8  RT @awscloud: How to deploy an SSL certificate...  \n",
       "9  Too bad #Facebook: Host #Parse on #AWS #Heroku...  "
      ]
     },
     "execution_count": 24,
     "metadata": {},
     "output_type": "execute_result"
    }
   ],
   "source": [
    "df.head(10)"
   ]
  },
  {
   "cell_type": "code",
   "execution_count": 25,
   "id": "5b88895a-df44-4909-81da-9784b8e0dba5",
   "metadata": {},
   "outputs": [
    {
     "data": {
      "text/html": [
       "<div>\n",
       "<style scoped>\n",
       "    .dataframe tbody tr th:only-of-type {\n",
       "        vertical-align: middle;\n",
       "    }\n",
       "\n",
       "    .dataframe tbody tr th {\n",
       "        vertical-align: top;\n",
       "    }\n",
       "\n",
       "    .dataframe thead th {\n",
       "        text-align: right;\n",
       "    }\n",
       "</style>\n",
       "<table border=\"1\" class=\"dataframe\">\n",
       "  <thead>\n",
       "    <tr style=\"text-align: right;\">\n",
       "      <th></th>\n",
       "      <th>Unnamed: 0</th>\n",
       "      <th>UserID</th>\n",
       "      <th>Gender</th>\n",
       "      <th>LocationID</th>\n",
       "      <th>City</th>\n",
       "      <th>State</th>\n",
       "      <th>StateCode</th>\n",
       "      <th>Country</th>\n",
       "      <th>TweetID</th>\n",
       "      <th>Hour</th>\n",
       "      <th>Day</th>\n",
       "      <th>Weekday</th>\n",
       "      <th>IsReshare</th>\n",
       "      <th>Reach</th>\n",
       "      <th>RetweetCount</th>\n",
       "      <th>Likes</th>\n",
       "      <th>Klout</th>\n",
       "      <th>Sentiment</th>\n",
       "      <th>Lang</th>\n",
       "      <th>text</th>\n",
       "    </tr>\n",
       "  </thead>\n",
       "  <tbody>\n",
       "    <tr>\n",
       "      <th>102057</th>\n",
       "      <td>102057</td>\n",
       "      <td>tw-8184962</td>\n",
       "      <td>Male</td>\n",
       "      <td>6288.0</td>\n",
       "      <td>Harare</td>\n",
       "      <td>Harare Province</td>\n",
       "      <td>ZW</td>\n",
       "      <td>Zimbabwe</td>\n",
       "      <td>tw-696378029526933504</td>\n",
       "      <td>10</td>\n",
       "      <td>7</td>\n",
       "      <td>Sunday</td>\n",
       "      <td>True</td>\n",
       "      <td>1203.0</td>\n",
       "      <td>3.0</td>\n",
       "      <td>0.0</td>\n",
       "      <td>44.0</td>\n",
       "      <td>3.0</td>\n",
       "      <td>en</td>\n",
       "      <td>RT @Springcoil: Does anyone have a good workfl...</td>\n",
       "    </tr>\n",
       "    <tr>\n",
       "      <th>102058</th>\n",
       "      <td>102058</td>\n",
       "      <td>tw-2510632527</td>\n",
       "      <td>Unknown</td>\n",
       "      <td>6288.0</td>\n",
       "      <td>Harare</td>\n",
       "      <td>Harare Province</td>\n",
       "      <td>ZW</td>\n",
       "      <td>Zimbabwe</td>\n",
       "      <td>tw-686895097175228416</td>\n",
       "      <td>5</td>\n",
       "      <td>12</td>\n",
       "      <td>Tuesday</td>\n",
       "      <td>True</td>\n",
       "      <td>976.0</td>\n",
       "      <td>102.0</td>\n",
       "      <td>0.0</td>\n",
       "      <td>31.0</td>\n",
       "      <td>0.0</td>\n",
       "      <td>en</td>\n",
       "      <td>RT @linuxacademyCOM: AWS CSA Associate and Pro...</td>\n",
       "    </tr>\n",
       "    <tr>\n",
       "      <th>102059</th>\n",
       "      <td>102059</td>\n",
       "      <td>tw-148753637</td>\n",
       "      <td>Unknown</td>\n",
       "      <td>6288.0</td>\n",
       "      <td>Harare</td>\n",
       "      <td>Harare Province</td>\n",
       "      <td>ZW</td>\n",
       "      <td>Zimbabwe</td>\n",
       "      <td>tw-709632884269785088</td>\n",
       "      <td>0</td>\n",
       "      <td>15</td>\n",
       "      <td>Tuesday</td>\n",
       "      <td>False</td>\n",
       "      <td>4876.0</td>\n",
       "      <td>0.0</td>\n",
       "      <td>0.0</td>\n",
       "      <td>49.0</td>\n",
       "      <td>1.0</td>\n",
       "      <td>en</td>\n",
       "      <td>Curious @benthompson does this change your opi...</td>\n",
       "    </tr>\n",
       "    <tr>\n",
       "      <th>102060</th>\n",
       "      <td>102060</td>\n",
       "      <td>tw-448919812</td>\n",
       "      <td>Unisex</td>\n",
       "      <td>6288.0</td>\n",
       "      <td>Harare</td>\n",
       "      <td>Harare Province</td>\n",
       "      <td>ZW</td>\n",
       "      <td>Zimbabwe</td>\n",
       "      <td>tw-705055534920163328</td>\n",
       "      <td>8</td>\n",
       "      <td>2</td>\n",
       "      <td>Wednesday</td>\n",
       "      <td>True</td>\n",
       "      <td>188.0</td>\n",
       "      <td>5.0</td>\n",
       "      <td>0.0</td>\n",
       "      <td>37.0</td>\n",
       "      <td>0.0</td>\n",
       "      <td>en</td>\n",
       "      <td>RT @awscloud: New on the AWS Startup Blog - Wh...</td>\n",
       "    </tr>\n",
       "    <tr>\n",
       "      <th>102061</th>\n",
       "      <td>102061</td>\n",
       "      <td>tw-252561397</td>\n",
       "      <td>Unknown</td>\n",
       "      <td>6289.0</td>\n",
       "      <td>Bulawayo</td>\n",
       "      <td>Bulawayo</td>\n",
       "      <td>ZW</td>\n",
       "      <td>Zimbabwe</td>\n",
       "      <td>tw-701487153818238976</td>\n",
       "      <td>12</td>\n",
       "      <td>21</td>\n",
       "      <td>Sunday</td>\n",
       "      <td>True</td>\n",
       "      <td>199.0</td>\n",
       "      <td>3.0</td>\n",
       "      <td>0.0</td>\n",
       "      <td>23.0</td>\n",
       "      <td>0.0</td>\n",
       "      <td>en</td>\n",
       "      <td>RT @ICTAfrica1: 15 Top Paying IT Certification...</td>\n",
       "    </tr>\n",
       "  </tbody>\n",
       "</table>\n",
       "</div>"
      ],
      "text/plain": [
       "        Unnamed: 0         UserID   Gender  LocationID      City  \\\n",
       "102057      102057     tw-8184962     Male      6288.0    Harare   \n",
       "102058      102058  tw-2510632527  Unknown      6288.0    Harare   \n",
       "102059      102059   tw-148753637  Unknown      6288.0    Harare   \n",
       "102060      102060   tw-448919812   Unisex      6288.0    Harare   \n",
       "102061      102061   tw-252561397  Unknown      6289.0  Bulawayo   \n",
       "\n",
       "                  State StateCode   Country                TweetID  Hour  Day  \\\n",
       "102057  Harare Province        ZW  Zimbabwe  tw-696378029526933504    10    7   \n",
       "102058  Harare Province        ZW  Zimbabwe  tw-686895097175228416     5   12   \n",
       "102059  Harare Province        ZW  Zimbabwe  tw-709632884269785088     0   15   \n",
       "102060  Harare Province        ZW  Zimbabwe  tw-705055534920163328     8    2   \n",
       "102061         Bulawayo        ZW  Zimbabwe  tw-701487153818238976    12   21   \n",
       "\n",
       "          Weekday  IsReshare   Reach  RetweetCount  Likes  Klout  Sentiment  \\\n",
       "102057     Sunday       True  1203.0           3.0    0.0   44.0        3.0   \n",
       "102058    Tuesday       True   976.0         102.0    0.0   31.0        0.0   \n",
       "102059    Tuesday      False  4876.0           0.0    0.0   49.0        1.0   \n",
       "102060  Wednesday       True   188.0           5.0    0.0   37.0        0.0   \n",
       "102061     Sunday       True   199.0           3.0    0.0   23.0        0.0   \n",
       "\n",
       "       Lang                                               text  \n",
       "102057   en  RT @Springcoil: Does anyone have a good workfl...  \n",
       "102058   en  RT @linuxacademyCOM: AWS CSA Associate and Pro...  \n",
       "102059   en  Curious @benthompson does this change your opi...  \n",
       "102060   en  RT @awscloud: New on the AWS Startup Blog - Wh...  \n",
       "102061   en  RT @ICTAfrica1: 15 Top Paying IT Certification...  "
      ]
     },
     "execution_count": 25,
     "metadata": {},
     "output_type": "execute_result"
    }
   ],
   "source": [
    "df.tail() #shows the last 5 values of the dataset by default\n",
    "\n",
    "#df.tail(10) will print the last 10 values of the dataset"
   ]
  },
  {
   "cell_type": "markdown",
   "id": "20cb98a7-b4f1-4712-b4d5-563e347b4c9d",
   "metadata": {},
   "source": [
    "## Column Names"
   ]
  },
  {
   "cell_type": "code",
   "execution_count": 21,
   "id": "72452645-78ea-4608-b390-9f6bfae2886e",
   "metadata": {},
   "outputs": [
    {
     "data": {
      "text/plain": [
       "Index(['Unnamed: 0', 'UserID', 'Gender', 'LocationID', 'City', 'State',\n",
       "       'StateCode', 'Country', 'TweetID', 'Hour', 'Day', 'Weekday',\n",
       "       'IsReshare', 'Reach', 'RetweetCount', 'Likes', 'Klout', 'Sentiment',\n",
       "       'Lang', 'text'],\n",
       "      dtype='object')"
      ]
     },
     "execution_count": 21,
     "metadata": {},
     "output_type": "execute_result"
    }
   ],
   "source": [
    "df.columns"
   ]
  },
  {
   "cell_type": "code",
   "execution_count": 29,
   "id": "2a1e235a-d355-4f1c-a33d-c2e57d56c80e",
   "metadata": {},
   "outputs": [
    {
     "name": "stdout",
     "output_type": "stream",
     "text": [
      "        Unnamed: 0  UserID  Gender  LocationID   City  State  StateCode  \\\n",
      "0            False   False   False       False  False  False      False   \n",
      "1            False   False   False       False  False  False      False   \n",
      "2            False   False   False       False  False  False      False   \n",
      "3            False   False   False       False  False  False      False   \n",
      "4            False   False   False       False  False  False      False   \n",
      "...            ...     ...     ...         ...    ...    ...        ...   \n",
      "102057       False   False   False       False  False  False      False   \n",
      "102058       False   False   False       False  False  False      False   \n",
      "102059       False   False   False       False  False  False      False   \n",
      "102060       False   False   False       False  False  False      False   \n",
      "102061       False   False   False       False  False  False      False   \n",
      "\n",
      "        Country  TweetID   Hour    Day  Weekday  IsReshare  Reach  \\\n",
      "0         False    False  False  False    False      False  False   \n",
      "1         False    False  False  False    False      False  False   \n",
      "2         False    False  False  False    False      False  False   \n",
      "3         False    False  False  False    False      False  False   \n",
      "4         False    False  False  False    False      False  False   \n",
      "...         ...      ...    ...    ...      ...        ...    ...   \n",
      "102057    False    False  False  False    False      False  False   \n",
      "102058    False    False  False  False    False      False  False   \n",
      "102059    False    False  False  False    False      False  False   \n",
      "102060    False    False  False  False    False      False  False   \n",
      "102061    False    False  False  False    False      False  False   \n",
      "\n",
      "        RetweetCount  Likes  Klout  Sentiment   Lang   text  \n",
      "0              False  False  False      False  False  False  \n",
      "1              False  False  False      False  False  False  \n",
      "2              False  False  False      False  False  False  \n",
      "3              False  False  False      False  False  False  \n",
      "4              False  False  False      False  False  False  \n",
      "...              ...    ...    ...        ...    ...    ...  \n",
      "102057         False  False  False      False  False  False  \n",
      "102058         False  False  False      False  False  False  \n",
      "102059         False  False  False      False  False  False  \n",
      "102060         False  False  False      False  False  False  \n",
      "102061         False  False  False      False  False  False  \n",
      "\n",
      "[102062 rows x 20 columns]\n"
     ]
    }
   ],
   "source": [
    "print(df.isnull()) #shows the presence of null values in the data"
   ]
  },
  {
   "cell_type": "code",
   "execution_count": 30,
   "id": "c846cf01-ddfe-4daf-b296-68b3a57f0e61",
   "metadata": {},
   "outputs": [
    {
     "name": "stdout",
     "output_type": "stream",
     "text": [
      "Unnamed: 0         0\n",
      "UserID             0\n",
      "Gender             0\n",
      "LocationID         0\n",
      "City            2279\n",
      "State           1897\n",
      "StateCode       1726\n",
      "Country            0\n",
      "TweetID            0\n",
      "Hour               0\n",
      "Day                0\n",
      "Weekday            0\n",
      "IsReshare          0\n",
      "Reach              0\n",
      "RetweetCount       0\n",
      "Likes              0\n",
      "Klout              0\n",
      "Sentiment          0\n",
      "Lang               0\n",
      "text               0\n",
      "dtype: int64\n"
     ]
    }
   ],
   "source": [
    "print(df.isnull().sum()) #counts and prints the total number of null values present in the dataset"
   ]
  },
  {
   "cell_type": "markdown",
   "id": "20c6d402-ce4d-404b-9c3b-ea263591b9bd",
   "metadata": {},
   "source": [
    "## Checking the types of data"
   ]
  },
  {
   "cell_type": "code",
   "execution_count": 32,
   "id": "d4fab4a3-3af2-4ff7-9643-ee4673c5dbc7",
   "metadata": {},
   "outputs": [
    {
     "data": {
      "text/plain": [
       "Unnamed: 0        int64\n",
       "UserID           object\n",
       "Gender           object\n",
       "LocationID      float64\n",
       "City             object\n",
       "State            object\n",
       "StateCode        object\n",
       "Country          object\n",
       "TweetID          object\n",
       "Hour              int64\n",
       "Day               int64\n",
       "Weekday          object\n",
       "IsReshare          bool\n",
       "Reach           float64\n",
       "RetweetCount    float64\n",
       "Likes           float64\n",
       "Klout           float64\n",
       "Sentiment       float64\n",
       "Lang             object\n",
       "text             object\n",
       "dtype: object"
      ]
     },
     "execution_count": 32,
     "metadata": {},
     "output_type": "execute_result"
    }
   ],
   "source": [
    "df.dtypes"
   ]
  },
  {
   "cell_type": "markdown",
   "id": "81c41367-359c-4860-9359-b56899aaff18",
   "metadata": {},
   "source": [
    "## Renaming the Columns"
   ]
  },
  {
   "cell_type": "code",
   "execution_count": 4,
   "id": "f320382f-a61a-4704-84dd-e9eb0dd6309d",
   "metadata": {},
   "outputs": [
    {
     "data": {
      "text/html": [
       "<div>\n",
       "<style scoped>\n",
       "    .dataframe tbody tr th:only-of-type {\n",
       "        vertical-align: middle;\n",
       "    }\n",
       "\n",
       "    .dataframe tbody tr th {\n",
       "        vertical-align: top;\n",
       "    }\n",
       "\n",
       "    .dataframe thead th {\n",
       "        text-align: right;\n",
       "    }\n",
       "</style>\n",
       "<table border=\"1\" class=\"dataframe\">\n",
       "  <thead>\n",
       "    <tr style=\"text-align: right;\">\n",
       "      <th></th>\n",
       "      <th>Serial No.</th>\n",
       "      <th>UserID</th>\n",
       "      <th>Gender</th>\n",
       "      <th>LocationID</th>\n",
       "      <th>City</th>\n",
       "      <th>State</th>\n",
       "      <th>StateCode</th>\n",
       "      <th>Country</th>\n",
       "      <th>TweetID</th>\n",
       "      <th>Hour</th>\n",
       "      <th>Day</th>\n",
       "      <th>Weekday</th>\n",
       "      <th>IsReshare</th>\n",
       "      <th>Reach</th>\n",
       "      <th>RetweetCount</th>\n",
       "      <th>Likes</th>\n",
       "      <th>Klout</th>\n",
       "      <th>Sentiment</th>\n",
       "      <th>Lang</th>\n",
       "      <th>text</th>\n",
       "    </tr>\n",
       "  </thead>\n",
       "  <tbody>\n",
       "    <tr>\n",
       "      <th>0</th>\n",
       "      <td>0</td>\n",
       "      <td>tw-1267804344</td>\n",
       "      <td>Unknown</td>\n",
       "      <td>1.0</td>\n",
       "      <td>Elbasan</td>\n",
       "      <td>Elbasan</td>\n",
       "      <td>AL</td>\n",
       "      <td>Albania</td>\n",
       "      <td>tw-698155297102295041</td>\n",
       "      <td>7</td>\n",
       "      <td>12</td>\n",
       "      <td>Friday</td>\n",
       "      <td>True</td>\n",
       "      <td>339.0</td>\n",
       "      <td>127.0</td>\n",
       "      <td>0.0</td>\n",
       "      <td>44.0</td>\n",
       "      <td>0.0</td>\n",
       "      <td>en</td>\n",
       "      <td>\"RT @AdrianRusso82: Our Innovation Lab is offi...</td>\n",
       "    </tr>\n",
       "    <tr>\n",
       "      <th>1</th>\n",
       "      <td>1</td>\n",
       "      <td>tw-27229880</td>\n",
       "      <td>Male</td>\n",
       "      <td>2.0</td>\n",
       "      <td>Tirana</td>\n",
       "      <td>Tirane</td>\n",
       "      <td>AL</td>\n",
       "      <td>Albania</td>\n",
       "      <td>tw-685159757209059329</td>\n",
       "      <td>11</td>\n",
       "      <td>7</td>\n",
       "      <td>Thursday</td>\n",
       "      <td>False</td>\n",
       "      <td>87.0</td>\n",
       "      <td>0.0</td>\n",
       "      <td>0.0</td>\n",
       "      <td>22.0</td>\n",
       "      <td>0.0</td>\n",
       "      <td>en</td>\n",
       "      <td>Now Open  AWS Asia Pacific (Seoul) Region via ...</td>\n",
       "    </tr>\n",
       "    <tr>\n",
       "      <th>2</th>\n",
       "      <td>2</td>\n",
       "      <td>tw-27229880</td>\n",
       "      <td>Male</td>\n",
       "      <td>2.0</td>\n",
       "      <td>Tirana</td>\n",
       "      <td>Tirane</td>\n",
       "      <td>AL</td>\n",
       "      <td>Albania</td>\n",
       "      <td>tw-686907710311378944</td>\n",
       "      <td>6</td>\n",
       "      <td>12</td>\n",
       "      <td>Tuesday</td>\n",
       "      <td>False</td>\n",
       "      <td>87.0</td>\n",
       "      <td>0.0</td>\n",
       "      <td>0.0</td>\n",
       "      <td>22.0</td>\n",
       "      <td>0.0</td>\n",
       "      <td>en</td>\n",
       "      <td>A Beginner's Guide to Scaling to 11 Million+ U...</td>\n",
       "    </tr>\n",
       "    <tr>\n",
       "      <th>3</th>\n",
       "      <td>3</td>\n",
       "      <td>tw-27229880</td>\n",
       "      <td>Male</td>\n",
       "      <td>2.0</td>\n",
       "      <td>Tirana</td>\n",
       "      <td>Tirane</td>\n",
       "      <td>AL</td>\n",
       "      <td>Albania</td>\n",
       "      <td>tw-686968158050201600</td>\n",
       "      <td>10</td>\n",
       "      <td>12</td>\n",
       "      <td>Tuesday</td>\n",
       "      <td>False</td>\n",
       "      <td>87.0</td>\n",
       "      <td>0.0</td>\n",
       "      <td>0.0</td>\n",
       "      <td>22.0</td>\n",
       "      <td>0.0</td>\n",
       "      <td>en</td>\n",
       "      <td>Bridging AWS and Azure environments via VPN vi...</td>\n",
       "    </tr>\n",
       "    <tr>\n",
       "      <th>4</th>\n",
       "      <td>4</td>\n",
       "      <td>tw-27229880</td>\n",
       "      <td>Male</td>\n",
       "      <td>2.0</td>\n",
       "      <td>Tirana</td>\n",
       "      <td>Tirane</td>\n",
       "      <td>AL</td>\n",
       "      <td>Albania</td>\n",
       "      <td>tw-690210449674092545</td>\n",
       "      <td>9</td>\n",
       "      <td>21</td>\n",
       "      <td>Thursday</td>\n",
       "      <td>False</td>\n",
       "      <td>85.0</td>\n",
       "      <td>0.0</td>\n",
       "      <td>0.0</td>\n",
       "      <td>21.0</td>\n",
       "      <td>0.0</td>\n",
       "      <td>en</td>\n",
       "      <td>ELK on AWS ElasticSearch Service + ElasticBean...</td>\n",
       "    </tr>\n",
       "  </tbody>\n",
       "</table>\n",
       "</div>"
      ],
      "text/plain": [
       "   Serial No.         UserID   Gender  LocationID     City    State StateCode  \\\n",
       "0           0  tw-1267804344  Unknown         1.0  Elbasan  Elbasan        AL   \n",
       "1           1    tw-27229880     Male         2.0   Tirana   Tirane        AL   \n",
       "2           2    tw-27229880     Male         2.0   Tirana   Tirane        AL   \n",
       "3           3    tw-27229880     Male         2.0   Tirana   Tirane        AL   \n",
       "4           4    tw-27229880     Male         2.0   Tirana   Tirane        AL   \n",
       "\n",
       "   Country                TweetID  Hour  Day   Weekday  IsReshare  Reach  \\\n",
       "0  Albania  tw-698155297102295041     7   12    Friday       True  339.0   \n",
       "1  Albania  tw-685159757209059329    11    7  Thursday      False   87.0   \n",
       "2  Albania  tw-686907710311378944     6   12   Tuesday      False   87.0   \n",
       "3  Albania  tw-686968158050201600    10   12   Tuesday      False   87.0   \n",
       "4  Albania  tw-690210449674092545     9   21  Thursday      False   85.0   \n",
       "\n",
       "   RetweetCount  Likes  Klout  Sentiment Lang  \\\n",
       "0         127.0    0.0   44.0        0.0   en   \n",
       "1           0.0    0.0   22.0        0.0   en   \n",
       "2           0.0    0.0   22.0        0.0   en   \n",
       "3           0.0    0.0   22.0        0.0   en   \n",
       "4           0.0    0.0   21.0        0.0   en   \n",
       "\n",
       "                                                text  \n",
       "0  \"RT @AdrianRusso82: Our Innovation Lab is offi...  \n",
       "1  Now Open  AWS Asia Pacific (Seoul) Region via ...  \n",
       "2  A Beginner's Guide to Scaling to 11 Million+ U...  \n",
       "3  Bridging AWS and Azure environments via VPN vi...  \n",
       "4  ELK on AWS ElasticSearch Service + ElasticBean...  "
      ]
     },
     "execution_count": 4,
     "metadata": {},
     "output_type": "execute_result"
    }
   ],
   "source": [
    "df = df.rename(columns={\"Unnamed: 0\" : \"Serial No.\"})\n",
    "df.head()"
   ]
  },
  {
   "cell_type": "code",
   "execution_count": 5,
   "id": "dc91173e-28a5-4709-9564-73265782440c",
   "metadata": {},
   "outputs": [
    {
     "data": {
      "text/plain": [
       "(102062, 20)"
      ]
     },
     "execution_count": 5,
     "metadata": {},
     "output_type": "execute_result"
    }
   ],
   "source": [
    "df.shape #shows the (row_count,col_count) of the dataset"
   ]
  },
  {
   "cell_type": "code",
   "execution_count": 17,
   "id": "f305d64e-6e8e-402e-b146-5f2b933da262",
   "metadata": {},
   "outputs": [
    {
     "name": "stdout",
     "output_type": "stream",
     "text": [
      "number of duplicate rows:  (0, 20)\n"
     ]
    }
   ],
   "source": [
    "duplicate_rows_df = df[df.duplicated()]\n",
    "print(\"number of duplicate rows: \", duplicate_rows_df.shape)\n",
    "\n",
    "# this particular set of commands print the (no_of_duplicate_rows,total_no_of columns)"
   ]
  },
  {
   "cell_type": "code",
   "execution_count": 18,
   "id": "b1eef2d0-7f30-4679-9466-83fe27c4cbe9",
   "metadata": {},
   "outputs": [
    {
     "data": {
      "text/plain": [
       "Unnamed: 0      102062\n",
       "UserID          102062\n",
       "Gender          102062\n",
       "LocationID      102062\n",
       "City             99783\n",
       "State           100165\n",
       "StateCode       100336\n",
       "Country         102062\n",
       "TweetID         102062\n",
       "Hour            102062\n",
       "Day             102062\n",
       "Weekday         102062\n",
       "IsReshare       102062\n",
       "Reach           102062\n",
       "RetweetCount    102062\n",
       "Likes           102062\n",
       "Klout           102062\n",
       "Sentiment       102062\n",
       "Lang            102062\n",
       "text            102062\n",
       "dtype: int64"
      ]
     },
     "execution_count": 18,
     "metadata": {},
     "output_type": "execute_result"
    }
   ],
   "source": [
    "df.count()      # Used to count the number of rows"
   ]
  },
  {
   "cell_type": "markdown",
   "id": "ff62ed8f-c01b-4d15-89fb-5f377b3a31de",
   "metadata": {},
   "source": [
    "### If any duplicates\n",
    " *write the following code snippet:*\n",
    " df = df.drop_duplicates()"
   ]
  },
  {
   "cell_type": "markdown",
   "id": "282e1146-818e-4562-b326-d0b2a2e0f171",
   "metadata": {},
   "source": [
    "## Dropping the missing or null values"
   ]
  },
  {
   "cell_type": "code",
   "execution_count": 4,
   "id": "a3073c6d-8e16-47fe-964b-45ba7503682a",
   "metadata": {},
   "outputs": [
    {
     "name": "stdout",
     "output_type": "stream",
     "text": [
      "Serial No.         0\n",
      "UserID             0\n",
      "Gender             0\n",
      "LocationID         0\n",
      "City            2279\n",
      "State           1897\n",
      "StateCode       1726\n",
      "Country            0\n",
      "TweetID            0\n",
      "Hour               0\n",
      "Day                0\n",
      "Weekday            0\n",
      "IsReshare          0\n",
      "Reach              0\n",
      "RetweetCount       0\n",
      "Likes              0\n",
      "Klout              0\n",
      "Sentiment          0\n",
      "Lang               0\n",
      "text               0\n",
      "dtype: int64\n"
     ]
    }
   ],
   "source": [
    "print(df.isnull().sum())"
   ]
  },
  {
   "cell_type": "code",
   "execution_count": 6,
   "id": "0f9a9a99-ef26-4f9e-b781-d3145ee59b55",
   "metadata": {},
   "outputs": [],
   "source": [
    "df = df.dropna()    # Dropping the missing values."
   ]
  },
  {
   "cell_type": "code",
   "execution_count": 15,
   "id": "ddfe7a32-0ada-41e0-8f77-46dbfd487c85",
   "metadata": {},
   "outputs": [
    {
     "data": {
      "text/plain": [
       "Serial No.      99768\n",
       "UserID          99768\n",
       "Gender          99768\n",
       "LocationID      99768\n",
       "City            99768\n",
       "State           99768\n",
       "StateCode       99768\n",
       "Country         99768\n",
       "TweetID         99768\n",
       "Hour            99768\n",
       "Day             99768\n",
       "Weekday         99768\n",
       "IsReshare       99768\n",
       "Reach           99768\n",
       "RetweetCount    99768\n",
       "Likes           99768\n",
       "Klout           99768\n",
       "Sentiment       99768\n",
       "Lang            99768\n",
       "text            99768\n",
       "dtype: int64"
      ]
     },
     "execution_count": 15,
     "metadata": {},
     "output_type": "execute_result"
    }
   ],
   "source": [
    "df.count() #number of rows after dropping thr missing values"
   ]
  },
  {
   "cell_type": "markdown",
   "id": "27ed9c01-2a04-4978-a63a-14c11817d611",
   "metadata": {},
   "source": [
    "- Now we have removed all the rows which contain the Null or N/A values"
   ]
  },
  {
   "cell_type": "markdown",
   "id": "227b1646-cc75-453f-aa0a-c29fdb451976",
   "metadata": {},
   "source": [
    "## Outlier Detection & Removal"
   ]
  },
  {
   "cell_type": "markdown",
   "id": "e3a28e18-6207-4af5-aac9-4e8ed8acfdae",
   "metadata": {},
   "source": [
    "An outlier is a point or set of points that are different from other points. Sometimes they can be very high or very low. It's often a good idea to detect and remove the outliers. Because outliers are one of the primary reasons for resulting in a less accurate model. Hence it's a good idea to remove them. The outlier detection and removing that I am going to perform is called IQR score technique. Often outliers can be seen with visualizations using a box plot. Shown below are the box plot of MSRP, Cylinders, Horsepower and EngineSize. Herein all the plots, you can find some points are outside the box they are none other than outliers. The technique of finding and removing outlier that I am performing in this assignment is taken help of a tutorial from[ towards data science](https://towardsdatascience.com/ways-to-detect-and-remove-the-outliers-404d16608dba)."
   ]
  },
  {
   "cell_type": "code",
   "execution_count": 7,
   "id": "18f7037f-a030-4399-a818-7a87f53b9ff9",
   "metadata": {},
   "outputs": [
    {
     "data": {
      "text/plain": [
       "<AxesSubplot:xlabel='Hour'>"
      ]
     },
     "execution_count": 7,
     "metadata": {},
     "output_type": "execute_result"
    },
    {
     "data": {
      "image/png": "[encoded data removed]",
      "text/plain": [
       "<Figure size 432x288 with 1 Axes>"
      ]
     },
     "metadata": {
      "needs_background": "light"
     },
     "output_type": "display_data"
    }
   ],
   "source": [
    "sns.boxplot(x=df['Hour'])"
   ]
  },
  {
   "cell_type": "code",
   "execution_count": 8,
   "id": "f267a035-308b-4c89-ae6e-c94971a0a4f7",
   "metadata": {},
   "outputs": [
    {
     "data": {
      "text/plain": [
       "<AxesSubplot:xlabel='Likes'>"
      ]
     },
     "execution_count": 8,
     "metadata": {},
     "output_type": "execute_result"
    },
    {
     "data": {
      "image/png": "[encoded data removed]",
      "text/plain": [
       "<Figure size 432x288 with 1 Axes>"
      ]
     },
     "metadata": {
      "needs_background": "light"
     },
     "output_type": "display_data"
    }
   ],
   "source": [
    "sns.boxplot(x=df['Likes'])"
   ]
  },
  {
   "cell_type": "code",
   "execution_count": 8,
   "id": "3794583f-cc0b-4d0b-a770-9dabe3b4a157",
   "metadata": {},
   "outputs": [
    {
     "data": {
      "text/plain": [
       "<AxesSubplot:xlabel='RetweetCount'>"
      ]
     },
     "execution_count": 8,
     "metadata": {},
     "output_type": "execute_result"
    },
    {
     "data": {
      "image/png": "[encoded data removed]",
      "text/plain": [
       "<Figure size 432x288 with 1 Axes>"
      ]
     },
     "metadata": {
      "needs_background": "light"
     },
     "output_type": "display_data"
    }
   ],
   "source": [
    "sns.boxplot(x=df['RetweetCount'])"
   ]
  },
  {
   "cell_type": "code",
   "execution_count": null,
   "id": "d9e83f45-f723-4f3a-8fa0-de7e616f8d79",
   "metadata": {},
   "outputs": [
    {
     "data": {
      "text/html": [
       "<div>\n",
       "<style scoped>\n",
       "    .dataframe tbody tr th:only-of-type {\n",
       "        vertical-align: middle;\n",
       "    }\n",
       "\n",
       "    .dataframe tbody tr th {\n",
       "        vertical-align: top;\n",
       "    }\n",
       "\n",
       "    .dataframe thead th {\n",
       "        text-align: right;\n",
       "    }\n",
       "</style>\n",
       "<table border=\"1\" class=\"dataframe\">\n",
       "  <thead>\n",
       "    <tr style=\"text-align: right;\">\n",
       "      <th></th>\n",
       "      <th>Serial No.</th>\n",
       "      <th>UserID</th>\n",
       "      <th>Gender</th>\n",
       "      <th>LocationID</th>\n",
       "      <th>City</th>\n",
       "      <th>State</th>\n",
       "      <th>StateCode</th>\n",
       "      <th>Country</th>\n",
       "      <th>TweetID</th>\n",
       "      <th>Hour</th>\n",
       "      <th>Day</th>\n",
       "      <th>Weekday</th>\n",
       "      <th>IsReshare</th>\n",
       "      <th>Reach</th>\n",
       "      <th>RetweetCount</th>\n",
       "      <th>Likes</th>\n",
       "      <th>Klout</th>\n",
       "      <th>Sentiment</th>\n",
       "      <th>Lang</th>\n",
       "      <th>text</th>\n",
       "    </tr>\n",
       "  </thead>\n",
       "  <tbody>\n",
       "    <tr>\n",
       "      <th>0</th>\n",
       "      <td>0</td>\n",
       "      <td>tw-1267804344</td>\n",
       "      <td>Unknown</td>\n",
       "      <td>1.0</td>\n",
       "      <td>Elbasan</td>\n",
       "      <td>Elbasan</td>\n",
       "      <td>AL</td>\n",
       "      <td>Albania</td>\n",
       "      <td>tw-698155297102295041</td>\n",
       "      <td>7</td>\n",
       "      <td>12</td>\n",
       "      <td>Friday</td>\n",
       "      <td>True</td>\n",
       "      <td>339.0</td>\n",
       "      <td>127.0</td>\n",
       "      <td>0.0</td>\n",
       "      <td>44.0</td>\n",
       "      <td>0.0</td>\n",
       "      <td>en</td>\n",
       "      <td>\"RT @AdrianRusso82: Our Innovation Lab is offi...</td>\n",
       "    </tr>\n",
       "    <tr>\n",
       "      <th>1</th>\n",
       "      <td>1</td>\n",
       "      <td>tw-27229880</td>\n",
       "      <td>Male</td>\n",
       "      <td>2.0</td>\n",
       "      <td>Tirana</td>\n",
       "      <td>Tirane</td>\n",
       "      <td>AL</td>\n",
       "      <td>Albania</td>\n",
       "      <td>tw-685159757209059329</td>\n",
       "      <td>11</td>\n",
       "      <td>7</td>\n",
       "      <td>Thursday</td>\n",
       "      <td>False</td>\n",
       "      <td>87.0</td>\n",
       "      <td>0.0</td>\n",
       "      <td>0.0</td>\n",
       "      <td>22.0</td>\n",
       "      <td>0.0</td>\n",
       "      <td>en</td>\n",
       "      <td>Now Open  AWS Asia Pacific (Seoul) Region via ...</td>\n",
       "    </tr>\n",
       "    <tr>\n",
       "      <th>2</th>\n",
       "      <td>2</td>\n",
       "      <td>tw-27229880</td>\n",
       "      <td>Male</td>\n",
       "      <td>2.0</td>\n",
       "      <td>Tirana</td>\n",
       "      <td>Tirane</td>\n",
       "      <td>AL</td>\n",
       "      <td>Albania</td>\n",
       "      <td>tw-686907710311378944</td>\n",
       "      <td>6</td>\n",
       "      <td>12</td>\n",
       "      <td>Tuesday</td>\n",
       "      <td>False</td>\n",
       "      <td>87.0</td>\n",
       "      <td>0.0</td>\n",
       "      <td>0.0</td>\n",
       "      <td>22.0</td>\n",
       "      <td>0.0</td>\n",
       "      <td>en</td>\n",
       "      <td>A Beginner's Guide to Scaling to 11 Million+ U...</td>\n",
       "    </tr>\n",
       "    <tr>\n",
       "      <th>3</th>\n",
       "      <td>3</td>\n",
       "      <td>tw-27229880</td>\n",
       "      <td>Male</td>\n",
       "      <td>2.0</td>\n",
       "      <td>Tirana</td>\n",
       "      <td>Tirane</td>\n",
       "      <td>AL</td>\n",
       "      <td>Albania</td>\n",
       "      <td>tw-686968158050201600</td>\n",
       "      <td>10</td>\n",
       "      <td>12</td>\n",
       "      <td>Tuesday</td>\n",
       "      <td>False</td>\n",
       "      <td>87.0</td>\n",
       "      <td>0.0</td>\n",
       "      <td>0.0</td>\n",
       "      <td>22.0</td>\n",
       "      <td>0.0</td>\n",
       "      <td>en</td>\n",
       "      <td>Bridging AWS and Azure environments via VPN vi...</td>\n",
       "    </tr>\n",
       "    <tr>\n",
       "      <th>4</th>\n",
       "      <td>4</td>\n",
       "      <td>tw-27229880</td>\n",
       "      <td>Male</td>\n",
       "      <td>2.0</td>\n",
       "      <td>Tirana</td>\n",
       "      <td>Tirane</td>\n",
       "      <td>AL</td>\n",
       "      <td>Albania</td>\n",
       "      <td>tw-690210449674092545</td>\n",
       "      <td>9</td>\n",
       "      <td>21</td>\n",
       "      <td>Thursday</td>\n",
       "      <td>False</td>\n",
       "      <td>85.0</td>\n",
       "      <td>0.0</td>\n",
       "      <td>0.0</td>\n",
       "      <td>21.0</td>\n",
       "      <td>0.0</td>\n",
       "      <td>en</td>\n",
       "      <td>ELK on AWS ElasticSearch Service + ElasticBean...</td>\n",
       "    </tr>\n",
       "  </tbody>\n",
       "</table>\n",
       "</div>"
      ],
      "text/plain": [
       "   Serial No.         UserID   Gender  LocationID     City    State StateCode  \\\n",
       "0           0  tw-1267804344  Unknown         1.0  Elbasan  Elbasan        AL   \n",
       "1           1    tw-27229880     Male         2.0   Tirana   Tirane        AL   \n",
       "2           2    tw-27229880     Male         2.0   Tirana   Tirane        AL   \n",
       "3           3    tw-27229880     Male         2.0   Tirana   Tirane        AL   \n",
       "4           4    tw-27229880     Male         2.0   Tirana   Tirane        AL   \n",
       "\n",
       "   Country                TweetID  Hour  Day   Weekday  IsReshare  Reach  \\\n",
       "0  Albania  tw-698155297102295041     7   12    Friday       True  339.0   \n",
       "1  Albania  tw-685159757209059329    11    7  Thursday      False   87.0   \n",
       "2  Albania  tw-686907710311378944     6   12   Tuesday      False   87.0   \n",
       "3  Albania  tw-686968158050201600    10   12   Tuesday      False   87.0   \n",
       "4  Albania  tw-690210449674092545     9   21  Thursday      False   85.0   \n",
       "\n",
       "   RetweetCount  Likes  Klout  Sentiment Lang  \\\n",
       "0         127.0    0.0   44.0        0.0   en   \n",
       "1           0.0    0.0   22.0        0.0   en   \n",
       "2           0.0    0.0   22.0        0.0   en   \n",
       "3           0.0    0.0   22.0        0.0   en   \n",
       "4           0.0    0.0   21.0        0.0   en   \n",
       "\n",
       "                                                text  \n",
       "0  \"RT @AdrianRusso82: Our Innovation Lab is offi...  \n",
       "1  Now Open  AWS Asia Pacific (Seoul) Region via ...  \n",
       "2  A Beginner's Guide to Scaling to 11 Million+ U...  \n",
       "3  Bridging AWS and Azure environments via VPN vi...  \n",
       "4  ELK on AWS ElasticSearch Service + ElasticBean...  "
      ]
     },
     "execution_count": 9,
     "metadata": {},
     "output_type": "execute_result"
    }
   ],
   "source": [
    "df.head()"
   ]
  },
  {
   "cell_type": "markdown",
   "id": "39e131f1-6162-4b7b-892b-f9f69ac16fd5",
   "metadata": {},
   "source": [
    "## Column-by-Column IQR"
   ]
  },
  {
   "cell_type": "code",
   "execution_count": 32,
   "id": "d6c4e143-a6e0-4da0-9825-d5b66d9fc0e1",
   "metadata": {},
   "outputs": [
    {
     "name": "stdout",
     "output_type": "stream",
     "text": [
      "Interquartile Range for Reach: 1378.25\n"
     ]
    }
   ],
   "source": [
    "q1 = np.percentile(df['Reach'], 25)\n",
    "# Calculate the third quartile (75th percentile)\n",
    "q3 = np.percentile(df['Reach'], 75)\n",
    "# Calculate the interquartile range (IQR)\n",
    "iqr = q3 - q1\n",
    "print(\"Interquartile Range for Reach:\", iqr)\n",
    "\n",
    "# This is a method to find IQR for individual columns"
   ]
  },
  {
   "cell_type": "code",
   "execution_count": 33,
   "id": "01c9177c-ba71-45e0-bc30-76e51f3bdc55",
   "metadata": {},
   "outputs": [
    {
     "name": "stdout",
     "output_type": "stream",
     "text": [
      "Normal data range for Reach: -1916.375 , 3596.625\n"
     ]
    }
   ],
   "source": [
    "a1=q1-1.5*iqr\n",
    "a2=q3+1.5*iqr\n",
    "print(\"Normal data range for Reach:\",a1,\",\",a2)"
   ]
  },
  {
   "cell_type": "code",
   "execution_count": 34,
   "id": "797103d8-e62e-4bce-965a-10f0c2661eb1",
   "metadata": {},
   "outputs": [
    {
     "data": {
      "text/plain": [
       "<AxesSubplot:xlabel='Reach'>"
      ]
     },
     "execution_count": 34,
     "metadata": {},
     "output_type": "execute_result"
    },
    {
     "data": {
      "image/png": "[encoded data removed]",
      "text/plain": [
       "<Figure size 432x288 with 1 Axes>"
      ]
     },
     "metadata": {
      "needs_background": "light"
     },
     "output_type": "display_data"
    }
   ],
   "source": [
    "sns.boxplot(x=df['Reach'])"
   ]
  },
  {
   "cell_type": "code",
   "execution_count": 22,
   "id": "82fabca6-35b2-42d8-bae5-5dedab4b229c",
   "metadata": {},
   "outputs": [
    {
     "name": "stdout",
     "output_type": "stream",
     "text": [
      "Interquartile Range for Klout: 16.0\n"
     ]
    }
   ],
   "source": [
    "q1 = np.percentile(df['Klout'], 25)\n",
    "# Calculate the third quartile (75th percentile)\n",
    "q3 = np.percentile(df['Klout'], 75)\n",
    "# Calculate the interquartile range (IQR)\n",
    "iqr = q3 - q1\n",
    "print(\"Interquartile Range for Klout:\", iqr)\n",
    "\n",
    "# This is a method to find IQR for individual columns"
   ]
  },
  {
   "cell_type": "code",
   "execution_count": 27,
   "id": "a7ad85ab-2ffc-4cf9-bdfb-cbcfc318905d",
   "metadata": {},
   "outputs": [
    {
     "name": "stdout",
     "output_type": "stream",
     "text": [
      "Normal data range for Klout: 9.0 , 73.0\n"
     ]
    }
   ],
   "source": [
    "b1=q1-1.5*iqr\n",
    "b2=q3+1.5*iqr\n",
    "print(\"Normal data range for Klout:\",b1,\",\",b2)"
   ]
  },
  {
   "cell_type": "code",
   "execution_count": 30,
   "id": "b386924d-09b0-411d-b7c0-d8fda0d5fadb",
   "metadata": {},
   "outputs": [
    {
     "name": "stdout",
     "output_type": "stream",
     "text": [
      "Interquartile Range for RetweetCount: 3.0\n"
     ]
    }
   ],
   "source": [
    "q1 = np.percentile(df['RetweetCount'], 25)\n",
    "# Calculate the third quartile (75th percentile)\n",
    "q3 = np.percentile(df['RetweetCount'], 75)\n",
    "# Calculate the interquartile range (IQR)\n",
    "iqr = q3 - q1\n",
    "print(\"Interquartile Range for RetweetCount:\", iqr)\n",
    "\n",
    "# This is a method to find IQR for individual columns"
   ]
  },
  {
   "cell_type": "code",
   "execution_count": 31,
   "id": "d6c8d813-a4c3-4d0a-acf0-39fb27e1fe6f",
   "metadata": {},
   "outputs": [
    {
     "name": "stdout",
     "output_type": "stream",
     "text": [
      "Normal data range for RetweetCount: -4.5 , 7.5\n"
     ]
    }
   ],
   "source": [
    "c1=q1-1.5*iqr\n",
    "c2=q3+1.5*iqr\n",
    "print(\"Normal data range for RetweetCount:\",c1,\",\",c2)"
   ]
  },
  {
   "cell_type": "code",
   "execution_count": 35,
   "id": "61bb6e5b-ea0c-447d-9135-92aa90d24d5a",
   "metadata": {},
   "outputs": [
    {
     "data": {
      "text/plain": [
       "<AxesSubplot:xlabel='RetweetCount'>"
      ]
     },
     "execution_count": 35,
     "metadata": {},
     "output_type": "execute_result"
    },
    {
     "data": {
      "image/png": "[encoded data removed]",
      "text/plain": [
       "<Figure size 432x288 with 1 Axes>"
      ]
     },
     "metadata": {
      "needs_background": "light"
     },
     "output_type": "display_data"
    }
   ],
   "source": [
    "sns.boxplot(x=df['RetweetCount'])"
   ]
  },
  {
   "cell_type": "markdown",
   "id": "e63c2f3e-1ce2-42ee-8512-28c427cd5b99",
   "metadata": {},
   "source": [
    "## Complete IQR of all the rows"
   ]
  },
  {
   "cell_type": "code",
   "execution_count": 7,
   "id": "ed581456-186b-4b7a-90e4-5be59c5e2b8c",
   "metadata": {},
   "outputs": [
    {
     "name": "stdout",
     "output_type": "stream",
     "text": [
      "Serial No.      50812.500000\n",
      "LocationID       2174.000000\n",
      "Hour                9.000000\n",
      "Day                14.000000\n",
      "Reach            1378.250000\n",
      "RetweetCount        3.000000\n",
      "Likes               0.000000\n",
      "Klout              16.000000\n",
      "Sentiment           0.666667\n",
      "dtype: float64\n"
     ]
    }
   ],
   "source": [
    "numeric_columns = df.select_dtypes(include=['number'])\n",
    "Q1 = numeric_columns.quantile(0.25)\n",
    "Q3 = numeric_columns.quantile(0.75)\n",
    "IQR = Q3 - Q1\n",
    "print(IQR)"
   ]
  },
  {
   "cell_type": "code",
   "execution_count": 8,
   "id": "e2687caa-412d-42d0-bcb7-9f6d342e8866",
   "metadata": {},
   "outputs": [
    {
     "data": {
      "text/plain": [
       "(99768, 20)"
      ]
     },
     "execution_count": 8,
     "metadata": {},
     "output_type": "execute_result"
    }
   ],
   "source": [
    "df.shape #shows the (row_count,col_count) of the dataset"
   ]
  },
  {
   "cell_type": "markdown",
   "id": "14d4ffa5-5de7-41e1-ac59-4a7f2c33ccd7",
   "metadata": {},
   "source": [
    "By finding out the IQR of the data we found out the outliers and removed quite a chunk of them, though we cannot completely eliminate all the outliers using this technique but still does it's job.\n",
    "\n",
    "*Outliers removed = 102062-99768=2294*"
   ]
  },
  {
   "cell_type": "markdown",
   "id": "90fc91f6-c9fb-4cc5-8a1e-d04b0cc2c66e",
   "metadata": {},
   "source": [
    "# Graphical Represenation of Analysis\n",
    "\n",
    "## Histogram\n",
    "Histograms are required for showing the frequency of occurrence of variables in intervals."
   ]
  },
  {
   "cell_type": "code",
   "execution_count": 30,
   "id": "0c434fbb-37cd-4f71-bce9-ca96d42d069d",
   "metadata": {},
   "outputs": [
    {
     "data": {
      "image/png": "[encoded data removed]",
      "text/plain": [
       "<Figure size 720x360 with 1 Axes>"
      ]
     },
     "metadata": {
      "needs_background": "light"
     },
     "output_type": "display_data"
    }
   ],
   "source": [
    "df.Weekday.value_counts().nlargest(40).plot(kind='bar', figsize=(10,5))\n",
    "plt.title(\"Number of tweets by day\")\n",
    "plt.ylabel('Number of tweets')\n",
    "plt.xlabel('Days');"
   ]
  },
  {
   "cell_type": "code",
   "execution_count": 32,
   "id": "f1735a59-fb26-4ac8-bc39-2fe49f5bf447",
   "metadata": {},
   "outputs": [
    {
     "data": {
      "image/png": "[encoded data removed]",
      "text/plain": [
       "<Figure size 720x360 with 1 Axes>"
      ]
     },
     "metadata": {
      "needs_background": "light"
     },
     "output_type": "display_data"
    }
   ],
   "source": [
    "df.Hour.value_counts().nlargest(40).plot(kind='bar', figsize=(10,5))\n",
    "plt.title(\"Number of tweets by hour of the day\")\n",
    "plt.ylabel('Number of tweets')\n",
    "plt.xlabel('Hour');"
   ]
  },
  {
   "cell_type": "markdown",
   "id": "320830b8-71ec-4987-a31b-04b2993eb9a3",
   "metadata": {},
   "source": [
    "## Heatmaps\n",
    "\n",
    "Heatmaps are a graphical representation of data using colors to visualize the value of the matrix. In this, to represent more common values or higher activities brighter colors basically reddish colors are used and to represent less common or activity values, darker colors are preferred. Heatmap is also defined by the name of the shading matrix. Heatmaps can be created by hand, using Excel spreadsheets, or with digital experience insights tools like Hotjar."
   ]
  },
  {
   "cell_type": "code",
   "execution_count": 9,
   "id": "5dc59f46-bc09-4f8d-a417-52b65f0a88ea",
   "metadata": {},
   "outputs": [
    {
     "data": {
      "text/html": [
       "<div>\n",
       "<style scoped>\n",
       "    .dataframe tbody tr th:only-of-type {\n",
       "        vertical-align: middle;\n",
       "    }\n",
       "\n",
       "    .dataframe tbody tr th {\n",
       "        vertical-align: top;\n",
       "    }\n",
       "\n",
       "    .dataframe thead th {\n",
       "        text-align: right;\n",
       "    }\n",
       "</style>\n",
       "<table border=\"1\" class=\"dataframe\">\n",
       "  <thead>\n",
       "    <tr style=\"text-align: right;\">\n",
       "      <th></th>\n",
       "      <th>Serial No.</th>\n",
       "      <th>LocationID</th>\n",
       "      <th>Hour</th>\n",
       "      <th>Day</th>\n",
       "      <th>IsReshare</th>\n",
       "      <th>Reach</th>\n",
       "      <th>RetweetCount</th>\n",
       "      <th>Likes</th>\n",
       "      <th>Klout</th>\n",
       "      <th>Sentiment</th>\n",
       "    </tr>\n",
       "  </thead>\n",
       "  <tbody>\n",
       "    <tr>\n",
       "      <th>Serial No.</th>\n",
       "      <td>1.000000</td>\n",
       "      <td>0.933669</td>\n",
       "      <td>0.080729</td>\n",
       "      <td>-0.000706</td>\n",
       "      <td>-0.083979</td>\n",
       "      <td>0.030889</td>\n",
       "      <td>-0.006090</td>\n",
       "      <td>0.017774</td>\n",
       "      <td>0.091424</td>\n",
       "      <td>-0.000495</td>\n",
       "    </tr>\n",
       "    <tr>\n",
       "      <th>LocationID</th>\n",
       "      <td>0.933669</td>\n",
       "      <td>1.000000</td>\n",
       "      <td>0.062030</td>\n",
       "      <td>0.000142</td>\n",
       "      <td>-0.099658</td>\n",
       "      <td>0.052350</td>\n",
       "      <td>-0.007273</td>\n",
       "      <td>0.040685</td>\n",
       "      <td>0.100520</td>\n",
       "      <td>-0.001406</td>\n",
       "    </tr>\n",
       "    <tr>\n",
       "      <th>Hour</th>\n",
       "      <td>0.080729</td>\n",
       "      <td>0.062030</td>\n",
       "      <td>1.000000</td>\n",
       "      <td>0.011201</td>\n",
       "      <td>0.044553</td>\n",
       "      <td>0.008969</td>\n",
       "      <td>0.001527</td>\n",
       "      <td>0.020387</td>\n",
       "      <td>0.000328</td>\n",
       "      <td>-0.009119</td>\n",
       "    </tr>\n",
       "    <tr>\n",
       "      <th>Day</th>\n",
       "      <td>-0.000706</td>\n",
       "      <td>0.000142</td>\n",
       "      <td>0.011201</td>\n",
       "      <td>1.000000</td>\n",
       "      <td>-0.007570</td>\n",
       "      <td>0.007984</td>\n",
       "      <td>-0.001307</td>\n",
       "      <td>-0.005926</td>\n",
       "      <td>0.015997</td>\n",
       "      <td>0.010827</td>\n",
       "    </tr>\n",
       "    <tr>\n",
       "      <th>IsReshare</th>\n",
       "      <td>-0.083979</td>\n",
       "      <td>-0.099658</td>\n",
       "      <td>0.044553</td>\n",
       "      <td>-0.007570</td>\n",
       "      <td>1.000000</td>\n",
       "      <td>-0.044442</td>\n",
       "      <td>0.097938</td>\n",
       "      <td>-0.044680</td>\n",
       "      <td>-0.096637</td>\n",
       "      <td>0.046145</td>\n",
       "    </tr>\n",
       "    <tr>\n",
       "      <th>Reach</th>\n",
       "      <td>0.030889</td>\n",
       "      <td>0.052350</td>\n",
       "      <td>0.008969</td>\n",
       "      <td>0.007984</td>\n",
       "      <td>-0.044442</td>\n",
       "      <td>1.000000</td>\n",
       "      <td>0.013324</td>\n",
       "      <td>0.328151</td>\n",
       "      <td>0.195961</td>\n",
       "      <td>0.007127</td>\n",
       "    </tr>\n",
       "    <tr>\n",
       "      <th>RetweetCount</th>\n",
       "      <td>-0.006090</td>\n",
       "      <td>-0.007273</td>\n",
       "      <td>0.001527</td>\n",
       "      <td>-0.001307</td>\n",
       "      <td>0.097938</td>\n",
       "      <td>0.013324</td>\n",
       "      <td>1.000000</td>\n",
       "      <td>0.017312</td>\n",
       "      <td>-0.021540</td>\n",
       "      <td>0.004844</td>\n",
       "    </tr>\n",
       "    <tr>\n",
       "      <th>Likes</th>\n",
       "      <td>0.017774</td>\n",
       "      <td>0.040685</td>\n",
       "      <td>0.020387</td>\n",
       "      <td>-0.005926</td>\n",
       "      <td>-0.044680</td>\n",
       "      <td>0.328151</td>\n",
       "      <td>0.017312</td>\n",
       "      <td>1.000000</td>\n",
       "      <td>0.134795</td>\n",
       "      <td>0.006251</td>\n",
       "    </tr>\n",
       "    <tr>\n",
       "      <th>Klout</th>\n",
       "      <td>0.091424</td>\n",
       "      <td>0.100520</td>\n",
       "      <td>0.000328</td>\n",
       "      <td>0.015997</td>\n",
       "      <td>-0.096637</td>\n",
       "      <td>0.195961</td>\n",
       "      <td>-0.021540</td>\n",
       "      <td>0.134795</td>\n",
       "      <td>1.000000</td>\n",
       "      <td>-0.007612</td>\n",
       "    </tr>\n",
       "    <tr>\n",
       "      <th>Sentiment</th>\n",
       "      <td>-0.000495</td>\n",
       "      <td>-0.001406</td>\n",
       "      <td>-0.009119</td>\n",
       "      <td>0.010827</td>\n",
       "      <td>0.046145</td>\n",
       "      <td>0.007127</td>\n",
       "      <td>0.004844</td>\n",
       "      <td>0.006251</td>\n",
       "      <td>-0.007612</td>\n",
       "      <td>1.000000</td>\n",
       "    </tr>\n",
       "  </tbody>\n",
       "</table>\n",
       "</div>"
      ],
      "text/plain": [
       "              Serial No.  LocationID      Hour       Day  IsReshare     Reach  \\\n",
       "Serial No.      1.000000    0.933669  0.080729 -0.000706  -0.083979  0.030889   \n",
       "LocationID      0.933669    1.000000  0.062030  0.000142  -0.099658  0.052350   \n",
       "Hour            0.080729    0.062030  1.000000  0.011201   0.044553  0.008969   \n",
       "Day            -0.000706    0.000142  0.011201  1.000000  -0.007570  0.007984   \n",
       "IsReshare      -0.083979   -0.099658  0.044553 -0.007570   1.000000 -0.044442   \n",
       "Reach           0.030889    0.052350  0.008969  0.007984  -0.044442  1.000000   \n",
       "RetweetCount   -0.006090   -0.007273  0.001527 -0.001307   0.097938  0.013324   \n",
       "Likes           0.017774    0.040685  0.020387 -0.005926  -0.044680  0.328151   \n",
       "Klout           0.091424    0.100520  0.000328  0.015997  -0.096637  0.195961   \n",
       "Sentiment      -0.000495   -0.001406 -0.009119  0.010827   0.046145  0.007127   \n",
       "\n",
       "              RetweetCount     Likes     Klout  Sentiment  \n",
       "Serial No.       -0.006090  0.017774  0.091424  -0.000495  \n",
       "LocationID       -0.007273  0.040685  0.100520  -0.001406  \n",
       "Hour              0.001527  0.020387  0.000328  -0.009119  \n",
       "Day              -0.001307 -0.005926  0.015997   0.010827  \n",
       "IsReshare         0.097938 -0.044680 -0.096637   0.046145  \n",
       "Reach             0.013324  0.328151  0.195961   0.007127  \n",
       "RetweetCount      1.000000  0.017312 -0.021540   0.004844  \n",
       "Likes             0.017312  1.000000  0.134795   0.006251  \n",
       "Klout            -0.021540  0.134795  1.000000  -0.007612  \n",
       "Sentiment         0.004844  0.006251 -0.007612   1.000000  "
      ]
     },
     "execution_count": 9,
     "metadata": {},
     "output_type": "execute_result"
    },
    {
     "data": {
      "image/png": "[encoded data removed]",
      "text/plain": [
       "<Figure size 720x360 with 2 Axes>"
      ]
     },
     "metadata": {
      "needs_background": "light"
     },
     "output_type": "display_data"
    }
   ],
   "source": [
    "plt.figure(figsize=(10,5))\n",
    "c= df.corr()\n",
    "sns.heatmap(c,cmap=\"BrBG\",annot=True)\n",
    "c"
   ]
  },
  {
   "cell_type": "markdown",
   "id": "1e8b9ca2-128f-4c7c-b51d-afe14e06ca19",
   "metadata": {},
   "source": [
    "## Scatterplot\n",
    "\n",
    "We generally use scatter plots to find the correlation between two variables. Here the scatter plots are plotted between Horsepower and Price and we can see the plot below. With the plot given below, we can easily draw a trend line."
   ]
  },
  {
   "cell_type": "code",
   "execution_count": 28,
   "id": "b24a036c-300e-422f-a78e-2139842c7dc4",
   "metadata": {},
   "outputs": [
    {
     "data": {
      "image/png": "[encoded data removed]",
      "text/plain": [
       "<Figure size 720x720 with 1 Axes>"
      ]
     },
     "metadata": {
      "needs_background": "light"
     },
     "output_type": "display_data"
    }
   ],
   "source": [
    "fig, ax = plt.subplots(figsize=(10,10))\n",
    "ax.scatter(df['Day'], df['Reach'])\n",
    "ax.set_xlabel('Day')\n",
    "ax.set_ylabel('Reach')\n",
    "plt.show()"
   ]
  },
  {
   "cell_type": "code",
   "execution_count": 24,
   "id": "491d49cc-3134-4914-bb9f-8b83a92577e7",
   "metadata": {},
   "outputs": [
    {
     "data": {
      "image/png": "[encoded data removed]",
      "text/plain": [
       "<Figure size 576x432 with 1 Axes>"
      ]
     },
     "metadata": {
      "needs_background": "light"
     },
     "output_type": "display_data"
    }
   ],
   "source": [
    "plt.figure(figsize=(8,6))\n",
    "plt.hist(df['Klout'], bins=20, color='green')\n",
    "plt.title('Distribution of Klout coverage count')\n",
    "plt.xlabel('Klout')\n",
    "plt.ylabel('Count')\n",
    "plt.show()"
   ]
  }
 ],
 "metadata": {
  "kernelspec": {
   "display_name": "Python 3 (ipykernel)",
   "language": "python",
   "name": "python3"
  },
  "language_info": {
   "codemirror_mode": {
    "name": "ipython",
    "version": 3
   },
   "file_extension": ".py",
   "mimetype": "text/x-python",
   "name": "python",
   "nbconvert_exporter": "python",
   "pygments_lexer": "ipython3",
   "version": "3.9.12"
  }
 },
 "nbformat": 4,
 "nbformat_minor": 5
}
